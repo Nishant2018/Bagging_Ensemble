{
 "cells": [
  {
   "cell_type": "code",
   "execution_count": 1,
   "id": "4a47a9fc",
   "metadata": {
    "_cell_guid": "b1076dfc-b9ad-4769-8c92-a6c4dae69d19",
    "_uuid": "8f2839f25d086af736a60e9eeb907d3b93b6e0e5",
    "execution": {
     "iopub.execute_input": "2023-12-23T16:57:47.759527Z",
     "iopub.status.busy": "2023-12-23T16:57:47.758879Z",
     "iopub.status.idle": "2023-12-23T16:57:48.195865Z",
     "shell.execute_reply": "2023-12-23T16:57:48.194725Z"
    },
    "papermill": {
     "duration": 0.454194,
     "end_time": "2023-12-23T16:57:48.198557",
     "exception": false,
     "start_time": "2023-12-23T16:57:47.744363",
     "status": "completed"
    },
    "tags": []
   },
   "outputs": [
    {
     "name": "stdout",
     "output_type": "stream",
     "text": [
      "/kaggle/input/iris-flower-dataset/IRIS.csv\n"
     ]
    }
   ],
   "source": [
    "# This Python 3 environment comes with many helpful analytics libraries installed\n",
    "# It is defined by the kaggle/python Docker image: https://github.com/kaggle/docker-python\n",
    "# For example, here's several helpful packages to load\n",
    "\n",
    "import numpy as np # linear algebra\n",
    "import pandas as pd # data processing, CSV file I/O (e.g. pd.read_csv)\n",
    "\n",
    "# Input data files are available in the read-only \"../input/\" directory\n",
    "# For example, running this (by clicking run or pressing Shift+Enter) will list all files under the input directory\n",
    "\n",
    "import os\n",
    "for dirname, _, filenames in os.walk('/kaggle/input'):\n",
    "    for filename in filenames:\n",
    "        print(os.path.join(dirname, filename))\n",
    "\n",
    "# You can write up to 20GB to the current directory (/kaggle/working/) that gets preserved as output when you create a version using \"Save & Run All\" \n",
    "# You can also write temporary files to /kaggle/temp/, but they won't be saved outside of the current session"
   ]
  },
  {
   "cell_type": "code",
   "execution_count": 2,
   "id": "0fd61f69",
   "metadata": {
    "execution": {
     "iopub.execute_input": "2023-12-23T16:57:48.224078Z",
     "iopub.status.busy": "2023-12-23T16:57:48.223525Z",
     "iopub.status.idle": "2023-12-23T16:57:48.242845Z",
     "shell.execute_reply": "2023-12-23T16:57:48.241710Z"
    },
    "papermill": {
     "duration": 0.035932,
     "end_time": "2023-12-23T16:57:48.246402",
     "exception": false,
     "start_time": "2023-12-23T16:57:48.210470",
     "status": "completed"
    },
    "tags": []
   },
   "outputs": [],
   "source": [
    "df = pd.read_csv(\"/kaggle/input/iris-flower-dataset/IRIS.csv\")"
   ]
  },
  {
   "cell_type": "code",
   "execution_count": 3,
   "id": "b51b59fd",
   "metadata": {
    "execution": {
     "iopub.execute_input": "2023-12-23T16:57:48.272598Z",
     "iopub.status.busy": "2023-12-23T16:57:48.271454Z",
     "iopub.status.idle": "2023-12-23T16:57:48.298466Z",
     "shell.execute_reply": "2023-12-23T16:57:48.297626Z"
    },
    "papermill": {
     "duration": 0.042592,
     "end_time": "2023-12-23T16:57:48.300926",
     "exception": false,
     "start_time": "2023-12-23T16:57:48.258334",
     "status": "completed"
    },
    "tags": []
   },
   "outputs": [
    {
     "data": {
      "text/html": [
       "<div>\n",
       "<style scoped>\n",
       "    .dataframe tbody tr th:only-of-type {\n",
       "        vertical-align: middle;\n",
       "    }\n",
       "\n",
       "    .dataframe tbody tr th {\n",
       "        vertical-align: top;\n",
       "    }\n",
       "\n",
       "    .dataframe thead th {\n",
       "        text-align: right;\n",
       "    }\n",
       "</style>\n",
       "<table border=\"1\" class=\"dataframe\">\n",
       "  <thead>\n",
       "    <tr style=\"text-align: right;\">\n",
       "      <th></th>\n",
       "      <th>sepal_length</th>\n",
       "      <th>sepal_width</th>\n",
       "      <th>petal_length</th>\n",
       "      <th>petal_width</th>\n",
       "      <th>species</th>\n",
       "    </tr>\n",
       "  </thead>\n",
       "  <tbody>\n",
       "    <tr>\n",
       "      <th>0</th>\n",
       "      <td>5.1</td>\n",
       "      <td>3.5</td>\n",
       "      <td>1.4</td>\n",
       "      <td>0.2</td>\n",
       "      <td>Iris-setosa</td>\n",
       "    </tr>\n",
       "    <tr>\n",
       "      <th>1</th>\n",
       "      <td>4.9</td>\n",
       "      <td>3.0</td>\n",
       "      <td>1.4</td>\n",
       "      <td>0.2</td>\n",
       "      <td>Iris-setosa</td>\n",
       "    </tr>\n",
       "    <tr>\n",
       "      <th>2</th>\n",
       "      <td>4.7</td>\n",
       "      <td>3.2</td>\n",
       "      <td>1.3</td>\n",
       "      <td>0.2</td>\n",
       "      <td>Iris-setosa</td>\n",
       "    </tr>\n",
       "    <tr>\n",
       "      <th>3</th>\n",
       "      <td>4.6</td>\n",
       "      <td>3.1</td>\n",
       "      <td>1.5</td>\n",
       "      <td>0.2</td>\n",
       "      <td>Iris-setosa</td>\n",
       "    </tr>\n",
       "    <tr>\n",
       "      <th>4</th>\n",
       "      <td>5.0</td>\n",
       "      <td>3.6</td>\n",
       "      <td>1.4</td>\n",
       "      <td>0.2</td>\n",
       "      <td>Iris-setosa</td>\n",
       "    </tr>\n",
       "  </tbody>\n",
       "</table>\n",
       "</div>"
      ],
      "text/plain": [
       "   sepal_length  sepal_width  petal_length  petal_width      species\n",
       "0           5.1          3.5           1.4          0.2  Iris-setosa\n",
       "1           4.9          3.0           1.4          0.2  Iris-setosa\n",
       "2           4.7          3.2           1.3          0.2  Iris-setosa\n",
       "3           4.6          3.1           1.5          0.2  Iris-setosa\n",
       "4           5.0          3.6           1.4          0.2  Iris-setosa"
      ]
     },
     "execution_count": 3,
     "metadata": {},
     "output_type": "execute_result"
    }
   ],
   "source": [
    "df.head(5)"
   ]
  },
  {
   "cell_type": "code",
   "execution_count": 4,
   "id": "468ae602",
   "metadata": {
    "execution": {
     "iopub.execute_input": "2023-12-23T16:57:48.327009Z",
     "iopub.status.busy": "2023-12-23T16:57:48.326458Z",
     "iopub.status.idle": "2023-12-23T16:57:48.356761Z",
     "shell.execute_reply": "2023-12-23T16:57:48.355132Z"
    },
    "papermill": {
     "duration": 0.046282,
     "end_time": "2023-12-23T16:57:48.359463",
     "exception": false,
     "start_time": "2023-12-23T16:57:48.313181",
     "status": "completed"
    },
    "tags": []
   },
   "outputs": [
    {
     "name": "stdout",
     "output_type": "stream",
     "text": [
      "<class 'pandas.core.frame.DataFrame'>\n",
      "RangeIndex: 150 entries, 0 to 149\n",
      "Data columns (total 5 columns):\n",
      " #   Column        Non-Null Count  Dtype  \n",
      "---  ------        --------------  -----  \n",
      " 0   sepal_length  150 non-null    float64\n",
      " 1   sepal_width   150 non-null    float64\n",
      " 2   petal_length  150 non-null    float64\n",
      " 3   petal_width   150 non-null    float64\n",
      " 4   species       150 non-null    object \n",
      "dtypes: float64(4), object(1)\n",
      "memory usage: 6.0+ KB\n"
     ]
    }
   ],
   "source": [
    "df.info()"
   ]
  },
  {
   "cell_type": "code",
   "execution_count": 5,
   "id": "41a578c0",
   "metadata": {
    "execution": {
     "iopub.execute_input": "2023-12-23T16:57:48.386035Z",
     "iopub.status.busy": "2023-12-23T16:57:48.385179Z",
     "iopub.status.idle": "2023-12-23T16:57:48.411817Z",
     "shell.execute_reply": "2023-12-23T16:57:48.410602Z"
    },
    "papermill": {
     "duration": 0.042522,
     "end_time": "2023-12-23T16:57:48.414286",
     "exception": false,
     "start_time": "2023-12-23T16:57:48.371764",
     "status": "completed"
    },
    "tags": []
   },
   "outputs": [
    {
     "data": {
      "text/html": [
       "<div>\n",
       "<style scoped>\n",
       "    .dataframe tbody tr th:only-of-type {\n",
       "        vertical-align: middle;\n",
       "    }\n",
       "\n",
       "    .dataframe tbody tr th {\n",
       "        vertical-align: top;\n",
       "    }\n",
       "\n",
       "    .dataframe thead th {\n",
       "        text-align: right;\n",
       "    }\n",
       "</style>\n",
       "<table border=\"1\" class=\"dataframe\">\n",
       "  <thead>\n",
       "    <tr style=\"text-align: right;\">\n",
       "      <th></th>\n",
       "      <th>sepal_length</th>\n",
       "      <th>sepal_width</th>\n",
       "      <th>petal_length</th>\n",
       "      <th>petal_width</th>\n",
       "    </tr>\n",
       "  </thead>\n",
       "  <tbody>\n",
       "    <tr>\n",
       "      <th>count</th>\n",
       "      <td>150.000000</td>\n",
       "      <td>150.000000</td>\n",
       "      <td>150.000000</td>\n",
       "      <td>150.000000</td>\n",
       "    </tr>\n",
       "    <tr>\n",
       "      <th>mean</th>\n",
       "      <td>5.843333</td>\n",
       "      <td>3.054000</td>\n",
       "      <td>3.758667</td>\n",
       "      <td>1.198667</td>\n",
       "    </tr>\n",
       "    <tr>\n",
       "      <th>std</th>\n",
       "      <td>0.828066</td>\n",
       "      <td>0.433594</td>\n",
       "      <td>1.764420</td>\n",
       "      <td>0.763161</td>\n",
       "    </tr>\n",
       "    <tr>\n",
       "      <th>min</th>\n",
       "      <td>4.300000</td>\n",
       "      <td>2.000000</td>\n",
       "      <td>1.000000</td>\n",
       "      <td>0.100000</td>\n",
       "    </tr>\n",
       "    <tr>\n",
       "      <th>25%</th>\n",
       "      <td>5.100000</td>\n",
       "      <td>2.800000</td>\n",
       "      <td>1.600000</td>\n",
       "      <td>0.300000</td>\n",
       "    </tr>\n",
       "    <tr>\n",
       "      <th>50%</th>\n",
       "      <td>5.800000</td>\n",
       "      <td>3.000000</td>\n",
       "      <td>4.350000</td>\n",
       "      <td>1.300000</td>\n",
       "    </tr>\n",
       "    <tr>\n",
       "      <th>75%</th>\n",
       "      <td>6.400000</td>\n",
       "      <td>3.300000</td>\n",
       "      <td>5.100000</td>\n",
       "      <td>1.800000</td>\n",
       "    </tr>\n",
       "    <tr>\n",
       "      <th>max</th>\n",
       "      <td>7.900000</td>\n",
       "      <td>4.400000</td>\n",
       "      <td>6.900000</td>\n",
       "      <td>2.500000</td>\n",
       "    </tr>\n",
       "  </tbody>\n",
       "</table>\n",
       "</div>"
      ],
      "text/plain": [
       "       sepal_length  sepal_width  petal_length  petal_width\n",
       "count    150.000000   150.000000    150.000000   150.000000\n",
       "mean       5.843333     3.054000      3.758667     1.198667\n",
       "std        0.828066     0.433594      1.764420     0.763161\n",
       "min        4.300000     2.000000      1.000000     0.100000\n",
       "25%        5.100000     2.800000      1.600000     0.300000\n",
       "50%        5.800000     3.000000      4.350000     1.300000\n",
       "75%        6.400000     3.300000      5.100000     1.800000\n",
       "max        7.900000     4.400000      6.900000     2.500000"
      ]
     },
     "execution_count": 5,
     "metadata": {},
     "output_type": "execute_result"
    }
   ],
   "source": [
    "df.describe()"
   ]
  },
  {
   "cell_type": "code",
   "execution_count": 6,
   "id": "8da624ff",
   "metadata": {
    "execution": {
     "iopub.execute_input": "2023-12-23T16:57:48.440948Z",
     "iopub.status.busy": "2023-12-23T16:57:48.440464Z",
     "iopub.status.idle": "2023-12-23T16:57:49.871797Z",
     "shell.execute_reply": "2023-12-23T16:57:49.870885Z"
    },
    "papermill": {
     "duration": 1.447776,
     "end_time": "2023-12-23T16:57:49.874540",
     "exception": false,
     "start_time": "2023-12-23T16:57:48.426764",
     "status": "completed"
    },
    "tags": []
   },
   "outputs": [],
   "source": [
    "from sklearn.preprocessing import LabelEncoder"
   ]
  },
  {
   "cell_type": "code",
   "execution_count": 7,
   "id": "511cd9d9",
   "metadata": {
    "execution": {
     "iopub.execute_input": "2023-12-23T16:57:49.901873Z",
     "iopub.status.busy": "2023-12-23T16:57:49.901180Z",
     "iopub.status.idle": "2023-12-23T16:57:49.905274Z",
     "shell.execute_reply": "2023-12-23T16:57:49.904515Z"
    },
    "papermill": {
     "duration": 0.020417,
     "end_time": "2023-12-23T16:57:49.907580",
     "exception": false,
     "start_time": "2023-12-23T16:57:49.887163",
     "status": "completed"
    },
    "tags": []
   },
   "outputs": [],
   "source": [
    "encoder = LabelEncoder()"
   ]
  },
  {
   "cell_type": "code",
   "execution_count": 8,
   "id": "cd23f2cb",
   "metadata": {
    "execution": {
     "iopub.execute_input": "2023-12-23T16:57:49.936390Z",
     "iopub.status.busy": "2023-12-23T16:57:49.935717Z",
     "iopub.status.idle": "2023-12-23T16:57:49.941196Z",
     "shell.execute_reply": "2023-12-23T16:57:49.940106Z"
    },
    "papermill": {
     "duration": 0.022743,
     "end_time": "2023-12-23T16:57:49.943803",
     "exception": false,
     "start_time": "2023-12-23T16:57:49.921060",
     "status": "completed"
    },
    "tags": []
   },
   "outputs": [],
   "source": [
    "df['species'] = encoder.fit_transform(df['species'])"
   ]
  },
  {
   "cell_type": "code",
   "execution_count": 9,
   "id": "758136d9",
   "metadata": {
    "execution": {
     "iopub.execute_input": "2023-12-23T16:57:49.970676Z",
     "iopub.status.busy": "2023-12-23T16:57:49.969899Z",
     "iopub.status.idle": "2023-12-23T16:57:49.987429Z",
     "shell.execute_reply": "2023-12-23T16:57:49.986295Z"
    },
    "papermill": {
     "duration": 0.033716,
     "end_time": "2023-12-23T16:57:49.989931",
     "exception": false,
     "start_time": "2023-12-23T16:57:49.956215",
     "status": "completed"
    },
    "tags": []
   },
   "outputs": [
    {
     "data": {
      "text/html": [
       "<div>\n",
       "<style scoped>\n",
       "    .dataframe tbody tr th:only-of-type {\n",
       "        vertical-align: middle;\n",
       "    }\n",
       "\n",
       "    .dataframe tbody tr th {\n",
       "        vertical-align: top;\n",
       "    }\n",
       "\n",
       "    .dataframe thead th {\n",
       "        text-align: right;\n",
       "    }\n",
       "</style>\n",
       "<table border=\"1\" class=\"dataframe\">\n",
       "  <thead>\n",
       "    <tr style=\"text-align: right;\">\n",
       "      <th></th>\n",
       "      <th>sepal_length</th>\n",
       "      <th>sepal_width</th>\n",
       "      <th>petal_length</th>\n",
       "      <th>petal_width</th>\n",
       "      <th>species</th>\n",
       "    </tr>\n",
       "  </thead>\n",
       "  <tbody>\n",
       "    <tr>\n",
       "      <th>65</th>\n",
       "      <td>6.7</td>\n",
       "      <td>3.1</td>\n",
       "      <td>4.4</td>\n",
       "      <td>1.4</td>\n",
       "      <td>1</td>\n",
       "    </tr>\n",
       "    <tr>\n",
       "      <th>139</th>\n",
       "      <td>6.9</td>\n",
       "      <td>3.1</td>\n",
       "      <td>5.4</td>\n",
       "      <td>2.1</td>\n",
       "      <td>2</td>\n",
       "    </tr>\n",
       "    <tr>\n",
       "      <th>23</th>\n",
       "      <td>5.1</td>\n",
       "      <td>3.3</td>\n",
       "      <td>1.7</td>\n",
       "      <td>0.5</td>\n",
       "      <td>0</td>\n",
       "    </tr>\n",
       "  </tbody>\n",
       "</table>\n",
       "</div>"
      ],
      "text/plain": [
       "     sepal_length  sepal_width  petal_length  petal_width  species\n",
       "65            6.7          3.1           4.4          1.4        1\n",
       "139           6.9          3.1           5.4          2.1        2\n",
       "23            5.1          3.3           1.7          0.5        0"
      ]
     },
     "execution_count": 9,
     "metadata": {},
     "output_type": "execute_result"
    }
   ],
   "source": [
    "df.sample(3)"
   ]
  },
  {
   "cell_type": "code",
   "execution_count": 10,
   "id": "ec38c95b",
   "metadata": {
    "execution": {
     "iopub.execute_input": "2023-12-23T16:57:50.017295Z",
     "iopub.status.busy": "2023-12-23T16:57:50.016633Z",
     "iopub.status.idle": "2023-12-23T16:57:50.441909Z",
     "shell.execute_reply": "2023-12-23T16:57:50.440729Z"
    },
    "papermill": {
     "duration": 0.442858,
     "end_time": "2023-12-23T16:57:50.445360",
     "exception": false,
     "start_time": "2023-12-23T16:57:50.002502",
     "status": "completed"
    },
    "tags": []
   },
   "outputs": [],
   "source": [
    "import seaborn as sns\n",
    "from matplotlib import pyplot as plt"
   ]
  },
  {
   "cell_type": "code",
   "execution_count": 11,
   "id": "8495d176",
   "metadata": {
    "execution": {
     "iopub.execute_input": "2023-12-23T16:57:50.472462Z",
     "iopub.status.busy": "2023-12-23T16:57:50.472042Z",
     "iopub.status.idle": "2023-12-23T16:57:50.479194Z",
     "shell.execute_reply": "2023-12-23T16:57:50.478085Z"
    },
    "papermill": {
     "duration": 0.023415,
     "end_time": "2023-12-23T16:57:50.481566",
     "exception": false,
     "start_time": "2023-12-23T16:57:50.458151",
     "status": "completed"
    },
    "tags": []
   },
   "outputs": [
    {
     "data": {
      "text/plain": [
       "(150, 5)"
      ]
     },
     "execution_count": 11,
     "metadata": {},
     "output_type": "execute_result"
    }
   ],
   "source": [
    "df.shape"
   ]
  },
  {
   "cell_type": "code",
   "execution_count": 12,
   "id": "74af3671",
   "metadata": {
    "execution": {
     "iopub.execute_input": "2023-12-23T16:57:50.509319Z",
     "iopub.status.busy": "2023-12-23T16:57:50.508641Z",
     "iopub.status.idle": "2023-12-23T16:57:50.514675Z",
     "shell.execute_reply": "2023-12-23T16:57:50.513902Z"
    },
    "papermill": {
     "duration": 0.022737,
     "end_time": "2023-12-23T16:57:50.516971",
     "exception": false,
     "start_time": "2023-12-23T16:57:50.494234",
     "status": "completed"
    },
    "tags": []
   },
   "outputs": [],
   "source": [
    "df_train = df.sample(80)\n",
    "df_val = df.sample(30)\n",
    "df_test = df.sample(40)"
   ]
  },
  {
   "cell_type": "code",
   "execution_count": 13,
   "id": "11d4cc98",
   "metadata": {
    "execution": {
     "iopub.execute_input": "2023-12-23T16:57:50.544539Z",
     "iopub.status.busy": "2023-12-23T16:57:50.543883Z",
     "iopub.status.idle": "2023-12-23T16:57:50.558352Z",
     "shell.execute_reply": "2023-12-23T16:57:50.557247Z"
    },
    "papermill": {
     "duration": 0.030994,
     "end_time": "2023-12-23T16:57:50.560616",
     "exception": false,
     "start_time": "2023-12-23T16:57:50.529622",
     "status": "completed"
    },
    "tags": []
   },
   "outputs": [
    {
     "data": {
      "text/html": [
       "<div>\n",
       "<style scoped>\n",
       "    .dataframe tbody tr th:only-of-type {\n",
       "        vertical-align: middle;\n",
       "    }\n",
       "\n",
       "    .dataframe tbody tr th {\n",
       "        vertical-align: top;\n",
       "    }\n",
       "\n",
       "    .dataframe thead th {\n",
       "        text-align: right;\n",
       "    }\n",
       "</style>\n",
       "<table border=\"1\" class=\"dataframe\">\n",
       "  <thead>\n",
       "    <tr style=\"text-align: right;\">\n",
       "      <th></th>\n",
       "      <th>sepal_length</th>\n",
       "      <th>sepal_width</th>\n",
       "      <th>petal_length</th>\n",
       "      <th>petal_width</th>\n",
       "      <th>species</th>\n",
       "    </tr>\n",
       "  </thead>\n",
       "  <tbody>\n",
       "    <tr>\n",
       "      <th>128</th>\n",
       "      <td>6.4</td>\n",
       "      <td>2.8</td>\n",
       "      <td>5.6</td>\n",
       "      <td>2.1</td>\n",
       "      <td>2</td>\n",
       "    </tr>\n",
       "    <tr>\n",
       "      <th>26</th>\n",
       "      <td>5.0</td>\n",
       "      <td>3.4</td>\n",
       "      <td>1.6</td>\n",
       "      <td>0.4</td>\n",
       "      <td>0</td>\n",
       "    </tr>\n",
       "    <tr>\n",
       "      <th>101</th>\n",
       "      <td>5.8</td>\n",
       "      <td>2.7</td>\n",
       "      <td>5.1</td>\n",
       "      <td>1.9</td>\n",
       "      <td>2</td>\n",
       "    </tr>\n",
       "  </tbody>\n",
       "</table>\n",
       "</div>"
      ],
      "text/plain": [
       "     sepal_length  sepal_width  petal_length  petal_width  species\n",
       "128           6.4          2.8           5.6          2.1        2\n",
       "26            5.0          3.4           1.6          0.4        0\n",
       "101           5.8          2.7           5.1          1.9        2"
      ]
     },
     "execution_count": 13,
     "metadata": {},
     "output_type": "execute_result"
    }
   ],
   "source": [
    "df_train.sample(3)"
   ]
  },
  {
   "cell_type": "code",
   "execution_count": 14,
   "id": "79e4a82a",
   "metadata": {
    "execution": {
     "iopub.execute_input": "2023-12-23T16:57:50.589175Z",
     "iopub.status.busy": "2023-12-23T16:57:50.588321Z",
     "iopub.status.idle": "2023-12-23T16:57:50.602788Z",
     "shell.execute_reply": "2023-12-23T16:57:50.601624Z"
    },
    "papermill": {
     "duration": 0.031438,
     "end_time": "2023-12-23T16:57:50.605299",
     "exception": false,
     "start_time": "2023-12-23T16:57:50.573861",
     "status": "completed"
    },
    "tags": []
   },
   "outputs": [
    {
     "data": {
      "text/html": [
       "<div>\n",
       "<style scoped>\n",
       "    .dataframe tbody tr th:only-of-type {\n",
       "        vertical-align: middle;\n",
       "    }\n",
       "\n",
       "    .dataframe tbody tr th {\n",
       "        vertical-align: top;\n",
       "    }\n",
       "\n",
       "    .dataframe thead th {\n",
       "        text-align: right;\n",
       "    }\n",
       "</style>\n",
       "<table border=\"1\" class=\"dataframe\">\n",
       "  <thead>\n",
       "    <tr style=\"text-align: right;\">\n",
       "      <th></th>\n",
       "      <th>sepal_length</th>\n",
       "      <th>sepal_width</th>\n",
       "      <th>petal_length</th>\n",
       "      <th>petal_width</th>\n",
       "      <th>species</th>\n",
       "    </tr>\n",
       "  </thead>\n",
       "  <tbody>\n",
       "    <tr>\n",
       "      <th>103</th>\n",
       "      <td>6.3</td>\n",
       "      <td>2.9</td>\n",
       "      <td>5.6</td>\n",
       "      <td>1.8</td>\n",
       "      <td>2</td>\n",
       "    </tr>\n",
       "    <tr>\n",
       "      <th>44</th>\n",
       "      <td>5.1</td>\n",
       "      <td>3.8</td>\n",
       "      <td>1.9</td>\n",
       "      <td>0.4</td>\n",
       "      <td>0</td>\n",
       "    </tr>\n",
       "    <tr>\n",
       "      <th>9</th>\n",
       "      <td>4.9</td>\n",
       "      <td>3.1</td>\n",
       "      <td>1.5</td>\n",
       "      <td>0.1</td>\n",
       "      <td>0</td>\n",
       "    </tr>\n",
       "  </tbody>\n",
       "</table>\n",
       "</div>"
      ],
      "text/plain": [
       "     sepal_length  sepal_width  petal_length  petal_width  species\n",
       "103           6.3          2.9           5.6          1.8        2\n",
       "44            5.1          3.8           1.9          0.4        0\n",
       "9             4.9          3.1           1.5          0.1        0"
      ]
     },
     "execution_count": 14,
     "metadata": {},
     "output_type": "execute_result"
    }
   ],
   "source": [
    "df_val.sample(3)"
   ]
  },
  {
   "cell_type": "code",
   "execution_count": 15,
   "id": "9cac08b1",
   "metadata": {
    "execution": {
     "iopub.execute_input": "2023-12-23T16:57:50.633711Z",
     "iopub.status.busy": "2023-12-23T16:57:50.632910Z",
     "iopub.status.idle": "2023-12-23T16:57:50.647283Z",
     "shell.execute_reply": "2023-12-23T16:57:50.646140Z"
    },
    "papermill": {
     "duration": 0.031369,
     "end_time": "2023-12-23T16:57:50.649741",
     "exception": false,
     "start_time": "2023-12-23T16:57:50.618372",
     "status": "completed"
    },
    "tags": []
   },
   "outputs": [
    {
     "data": {
      "text/html": [
       "<div>\n",
       "<style scoped>\n",
       "    .dataframe tbody tr th:only-of-type {\n",
       "        vertical-align: middle;\n",
       "    }\n",
       "\n",
       "    .dataframe tbody tr th {\n",
       "        vertical-align: top;\n",
       "    }\n",
       "\n",
       "    .dataframe thead th {\n",
       "        text-align: right;\n",
       "    }\n",
       "</style>\n",
       "<table border=\"1\" class=\"dataframe\">\n",
       "  <thead>\n",
       "    <tr style=\"text-align: right;\">\n",
       "      <th></th>\n",
       "      <th>sepal_length</th>\n",
       "      <th>sepal_width</th>\n",
       "      <th>petal_length</th>\n",
       "      <th>petal_width</th>\n",
       "      <th>species</th>\n",
       "    </tr>\n",
       "  </thead>\n",
       "  <tbody>\n",
       "    <tr>\n",
       "      <th>99</th>\n",
       "      <td>5.7</td>\n",
       "      <td>2.8</td>\n",
       "      <td>4.1</td>\n",
       "      <td>1.3</td>\n",
       "      <td>1</td>\n",
       "    </tr>\n",
       "    <tr>\n",
       "      <th>51</th>\n",
       "      <td>6.4</td>\n",
       "      <td>3.2</td>\n",
       "      <td>4.5</td>\n",
       "      <td>1.5</td>\n",
       "      <td>1</td>\n",
       "    </tr>\n",
       "    <tr>\n",
       "      <th>49</th>\n",
       "      <td>5.0</td>\n",
       "      <td>3.3</td>\n",
       "      <td>1.4</td>\n",
       "      <td>0.2</td>\n",
       "      <td>0</td>\n",
       "    </tr>\n",
       "  </tbody>\n",
       "</table>\n",
       "</div>"
      ],
      "text/plain": [
       "    sepal_length  sepal_width  petal_length  petal_width  species\n",
       "99           5.7          2.8           4.1          1.3        1\n",
       "51           6.4          3.2           4.5          1.5        1\n",
       "49           5.0          3.3           1.4          0.2        0"
      ]
     },
     "execution_count": 15,
     "metadata": {},
     "output_type": "execute_result"
    }
   ],
   "source": [
    "df_test.sample(3)"
   ]
  },
  {
   "cell_type": "code",
   "execution_count": 16,
   "id": "76de8d94",
   "metadata": {
    "execution": {
     "iopub.execute_input": "2023-12-23T16:57:50.678385Z",
     "iopub.status.busy": "2023-12-23T16:57:50.677995Z",
     "iopub.status.idle": "2023-12-23T16:57:50.685636Z",
     "shell.execute_reply": "2023-12-23T16:57:50.684395Z"
    },
    "papermill": {
     "duration": 0.024931,
     "end_time": "2023-12-23T16:57:50.688091",
     "exception": false,
     "start_time": "2023-12-23T16:57:50.663160",
     "status": "completed"
    },
    "tags": []
   },
   "outputs": [],
   "source": [
    "x_test = df_val.iloc[:,[0,1,2,3]].values\n",
    "y_test = df_val.iloc[:,4].values"
   ]
  },
  {
   "cell_type": "code",
   "execution_count": 17,
   "id": "eb32a5ff",
   "metadata": {
    "execution": {
     "iopub.execute_input": "2023-12-23T16:57:50.716954Z",
     "iopub.status.busy": "2023-12-23T16:57:50.716520Z",
     "iopub.status.idle": "2023-12-23T16:57:50.723627Z",
     "shell.execute_reply": "2023-12-23T16:57:50.722400Z"
    },
    "papermill": {
     "duration": 0.024741,
     "end_time": "2023-12-23T16:57:50.726299",
     "exception": false,
     "start_time": "2023-12-23T16:57:50.701558",
     "status": "completed"
    },
    "tags": []
   },
   "outputs": [
    {
     "data": {
      "text/plain": [
       "array([0, 2, 1, 2, 1, 2, 0, 0, 1, 1, 0, 1, 2, 0, 2, 2, 0, 1, 2, 2, 0, 2,\n",
       "       1, 2, 0, 1, 0, 2, 2, 0])"
      ]
     },
     "execution_count": 17,
     "metadata": {},
     "output_type": "execute_result"
    }
   ],
   "source": [
    "y_test"
   ]
  },
  {
   "cell_type": "code",
   "execution_count": 18,
   "id": "cd2f7c6f",
   "metadata": {
    "execution": {
     "iopub.execute_input": "2023-12-23T16:57:50.755487Z",
     "iopub.status.busy": "2023-12-23T16:57:50.755110Z",
     "iopub.status.idle": "2023-12-23T16:57:51.119625Z",
     "shell.execute_reply": "2023-12-23T16:57:51.118448Z"
    },
    "papermill": {
     "duration": 0.382652,
     "end_time": "2023-12-23T16:57:51.122552",
     "exception": false,
     "start_time": "2023-12-23T16:57:50.739900",
     "status": "completed"
    },
    "tags": []
   },
   "outputs": [],
   "source": [
    "from sklearn.tree import DecisionTreeClassifier\n",
    "from sklearn.tree import plot_tree\n",
    "from mlxtend.plotting import plot_decision_regions\n",
    "from sklearn.metrics import accuracy_score"
   ]
  },
  {
   "cell_type": "code",
   "execution_count": 19,
   "id": "5c7770b8",
   "metadata": {
    "execution": {
     "iopub.execute_input": "2023-12-23T16:57:51.151878Z",
     "iopub.status.busy": "2023-12-23T16:57:51.151452Z",
     "iopub.status.idle": "2023-12-23T16:57:51.157673Z",
     "shell.execute_reply": "2023-12-23T16:57:51.156427Z"
    },
    "papermill": {
     "duration": 0.023762,
     "end_time": "2023-12-23T16:57:51.160023",
     "exception": false,
     "start_time": "2023-12-23T16:57:51.136261",
     "status": "completed"
    },
    "tags": []
   },
   "outputs": [],
   "source": [
    "#Define evaluation function\n",
    "def evaluate(clf,x,y):\n",
    "    clf.fit(x,y)\n",
    "    plot_tree(clf)\n",
    "    plt.show()\n",
    "    #plot_decision_regions(x.values,y.values,clf=clf)\n",
    "    y_pred = clf.predict(x_test)\n",
    "    print(accuracy_score(y_pred,y_test))"
   ]
  },
  {
   "cell_type": "markdown",
   "id": "413dbc90",
   "metadata": {
    "papermill": {
     "duration": 0.013816,
     "end_time": "2023-12-23T16:57:51.187588",
     "exception": false,
     "start_time": "2023-12-23T16:57:51.173772",
     "status": "completed"
    },
    "tags": []
   },
   "source": [
    "### Case 1 :- Bagging"
   ]
  },
  {
   "cell_type": "code",
   "execution_count": 20,
   "id": "78ac893c",
   "metadata": {
    "execution": {
     "iopub.execute_input": "2023-12-23T16:57:51.216540Z",
     "iopub.status.busy": "2023-12-23T16:57:51.216126Z",
     "iopub.status.idle": "2023-12-23T16:57:51.233279Z",
     "shell.execute_reply": "2023-12-23T16:57:51.232200Z"
    },
    "papermill": {
     "duration": 0.034279,
     "end_time": "2023-12-23T16:57:51.235494",
     "exception": false,
     "start_time": "2023-12-23T16:57:51.201215",
     "status": "completed"
    },
    "tags": []
   },
   "outputs": [
    {
     "data": {
      "text/html": [
       "<div>\n",
       "<style scoped>\n",
       "    .dataframe tbody tr th:only-of-type {\n",
       "        vertical-align: middle;\n",
       "    }\n",
       "\n",
       "    .dataframe tbody tr th {\n",
       "        vertical-align: top;\n",
       "    }\n",
       "\n",
       "    .dataframe thead th {\n",
       "        text-align: right;\n",
       "    }\n",
       "</style>\n",
       "<table border=\"1\" class=\"dataframe\">\n",
       "  <thead>\n",
       "    <tr style=\"text-align: right;\">\n",
       "      <th></th>\n",
       "      <th>sepal_length</th>\n",
       "      <th>sepal_width</th>\n",
       "      <th>petal_length</th>\n",
       "      <th>petal_width</th>\n",
       "      <th>species</th>\n",
       "    </tr>\n",
       "  </thead>\n",
       "  <tbody>\n",
       "    <tr>\n",
       "      <th>87</th>\n",
       "      <td>6.3</td>\n",
       "      <td>2.3</td>\n",
       "      <td>4.4</td>\n",
       "      <td>1.3</td>\n",
       "      <td>1</td>\n",
       "    </tr>\n",
       "    <tr>\n",
       "      <th>122</th>\n",
       "      <td>7.7</td>\n",
       "      <td>2.8</td>\n",
       "      <td>6.7</td>\n",
       "      <td>2.0</td>\n",
       "      <td>2</td>\n",
       "    </tr>\n",
       "    <tr>\n",
       "      <th>77</th>\n",
       "      <td>6.7</td>\n",
       "      <td>3.0</td>\n",
       "      <td>5.0</td>\n",
       "      <td>1.7</td>\n",
       "      <td>1</td>\n",
       "    </tr>\n",
       "  </tbody>\n",
       "</table>\n",
       "</div>"
      ],
      "text/plain": [
       "     sepal_length  sepal_width  petal_length  petal_width  species\n",
       "87            6.3          2.3           4.4          1.3        1\n",
       "122           7.7          2.8           6.7          2.0        2\n",
       "77            6.7          3.0           5.0          1.7        1"
      ]
     },
     "execution_count": 20,
     "metadata": {},
     "output_type": "execute_result"
    }
   ],
   "source": [
    "#Data for tree 1\n",
    "df_bag = df_train.sample(30,replace = True)\n",
    "\n",
    "x = df_bag.iloc[:,[0,1,2,3]]\n",
    "y = df_bag.iloc[:,4]\n",
    "\n",
    "df_bag.sample(3)"
   ]
  },
  {
   "cell_type": "code",
   "execution_count": 21,
   "id": "69541148",
   "metadata": {
    "execution": {
     "iopub.execute_input": "2023-12-23T16:57:51.265110Z",
     "iopub.status.busy": "2023-12-23T16:57:51.264674Z",
     "iopub.status.idle": "2023-12-23T16:57:51.268680Z",
     "shell.execute_reply": "2023-12-23T16:57:51.267893Z"
    },
    "papermill": {
     "duration": 0.021417,
     "end_time": "2023-12-23T16:57:51.270801",
     "exception": false,
     "start_time": "2023-12-23T16:57:51.249384",
     "status": "completed"
    },
    "tags": []
   },
   "outputs": [],
   "source": [
    "dt_bag1 = DecisionTreeClassifier()"
   ]
  },
  {
   "cell_type": "code",
   "execution_count": 22,
   "id": "738a7d4f",
   "metadata": {
    "execution": {
     "iopub.execute_input": "2023-12-23T16:57:51.301570Z",
     "iopub.status.busy": "2023-12-23T16:57:51.301138Z",
     "iopub.status.idle": "2023-12-23T16:57:51.848681Z",
     "shell.execute_reply": "2023-12-23T16:57:51.847480Z"
    },
    "papermill": {
     "duration": 0.567042,
     "end_time": "2023-12-23T16:57:51.851649",
     "exception": false,
     "start_time": "2023-12-23T16:57:51.284607",
     "status": "completed"
    },
    "tags": []
   },
   "outputs": [
    {
     "data": {
      "image/png": "[encoded data removed]",
      "text/plain": [
       "<Figure size 640x480 with 1 Axes>"
      ]
     },
     "metadata": {},
     "output_type": "display_data"
    },
    {
     "name": "stdout",
     "output_type": "stream",
     "text": [
      "0.9\n"
     ]
    },
    {
     "name": "stderr",
     "output_type": "stream",
     "text": [
      "/opt/conda/lib/python3.10/site-packages/sklearn/base.py:439: UserWarning: X does not have valid feature names, but DecisionTreeClassifier was fitted with feature names\n",
      "  warnings.warn(\n"
     ]
    }
   ],
   "source": [
    "evaluate(dt_bag1,x,y)"
   ]
  },
  {
   "cell_type": "code",
   "execution_count": 23,
   "id": "db6f2f70",
   "metadata": {
    "execution": {
     "iopub.execute_input": "2023-12-23T16:57:51.947635Z",
     "iopub.status.busy": "2023-12-23T16:57:51.947245Z",
     "iopub.status.idle": "2023-12-23T16:57:51.965741Z",
     "shell.execute_reply": "2023-12-23T16:57:51.964546Z"
    },
    "papermill": {
     "duration": 0.038213,
     "end_time": "2023-12-23T16:57:51.968128",
     "exception": false,
     "start_time": "2023-12-23T16:57:51.929915",
     "status": "completed"
    },
    "tags": []
   },
   "outputs": [
    {
     "data": {
      "text/html": [
       "<div>\n",
       "<style scoped>\n",
       "    .dataframe tbody tr th:only-of-type {\n",
       "        vertical-align: middle;\n",
       "    }\n",
       "\n",
       "    .dataframe tbody tr th {\n",
       "        vertical-align: top;\n",
       "    }\n",
       "\n",
       "    .dataframe thead th {\n",
       "        text-align: right;\n",
       "    }\n",
       "</style>\n",
       "<table border=\"1\" class=\"dataframe\">\n",
       "  <thead>\n",
       "    <tr style=\"text-align: right;\">\n",
       "      <th></th>\n",
       "      <th>sepal_length</th>\n",
       "      <th>sepal_width</th>\n",
       "      <th>petal_length</th>\n",
       "      <th>petal_width</th>\n",
       "      <th>species</th>\n",
       "    </tr>\n",
       "  </thead>\n",
       "  <tbody>\n",
       "    <tr>\n",
       "      <th>94</th>\n",
       "      <td>5.6</td>\n",
       "      <td>2.7</td>\n",
       "      <td>4.2</td>\n",
       "      <td>1.3</td>\n",
       "      <td>1</td>\n",
       "    </tr>\n",
       "    <tr>\n",
       "      <th>106</th>\n",
       "      <td>4.9</td>\n",
       "      <td>2.5</td>\n",
       "      <td>4.5</td>\n",
       "      <td>1.7</td>\n",
       "      <td>2</td>\n",
       "    </tr>\n",
       "    <tr>\n",
       "      <th>143</th>\n",
       "      <td>6.8</td>\n",
       "      <td>3.2</td>\n",
       "      <td>5.9</td>\n",
       "      <td>2.3</td>\n",
       "      <td>2</td>\n",
       "    </tr>\n",
       "  </tbody>\n",
       "</table>\n",
       "</div>"
      ],
      "text/plain": [
       "     sepal_length  sepal_width  petal_length  petal_width  species\n",
       "94            5.6          2.7           4.2          1.3        1\n",
       "106           4.9          2.5           4.5          1.7        2\n",
       "143           6.8          3.2           5.9          2.3        2"
      ]
     },
     "execution_count": 23,
     "metadata": {},
     "output_type": "execute_result"
    }
   ],
   "source": [
    "#Data for tree 2\n",
    "df_bag = df_train.sample(30,replace = True)\n",
    "\n",
    "x = df_bag.iloc[:,[0,1,2,3]]\n",
    "y = df_bag.iloc[:,4]\n",
    "\n",
    "df_bag.sample(3)"
   ]
  },
  {
   "cell_type": "code",
   "execution_count": 24,
   "id": "61cf6142",
   "metadata": {
    "execution": {
     "iopub.execute_input": "2023-12-23T16:57:52.000145Z",
     "iopub.status.busy": "2023-12-23T16:57:51.999737Z",
     "iopub.status.idle": "2023-12-23T16:57:52.004911Z",
     "shell.execute_reply": "2023-12-23T16:57:52.003749Z"
    },
    "papermill": {
     "duration": 0.02404,
     "end_time": "2023-12-23T16:57:52.007386",
     "exception": false,
     "start_time": "2023-12-23T16:57:51.983346",
     "status": "completed"
    },
    "tags": []
   },
   "outputs": [],
   "source": [
    "dt_bag2 = DecisionTreeClassifier()"
   ]
  },
  {
   "cell_type": "code",
   "execution_count": 25,
   "id": "1f434b9a",
   "metadata": {
    "execution": {
     "iopub.execute_input": "2023-12-23T16:57:52.040359Z",
     "iopub.status.busy": "2023-12-23T16:57:52.039970Z",
     "iopub.status.idle": "2023-12-23T16:57:52.530439Z",
     "shell.execute_reply": "2023-12-23T16:57:52.529217Z"
    },
    "papermill": {
     "duration": 0.513383,
     "end_time": "2023-12-23T16:57:52.536471",
     "exception": false,
     "start_time": "2023-12-23T16:57:52.023088",
     "status": "completed"
    },
    "tags": []
   },
   "outputs": [
    {
     "data": {
      "image/png": "[encoded data removed]",
      "text/plain": [
       "<Figure size 640x480 with 1 Axes>"
      ]
     },
     "metadata": {},
     "output_type": "display_data"
    },
    {
     "name": "stdout",
     "output_type": "stream",
     "text": [
      "0.9333333333333333\n"
     ]
    },
    {
     "name": "stderr",
     "output_type": "stream",
     "text": [
      "/opt/conda/lib/python3.10/site-packages/sklearn/base.py:439: UserWarning: X does not have valid feature names, but DecisionTreeClassifier was fitted with feature names\n",
      "  warnings.warn(\n"
     ]
    }
   ],
   "source": [
    "evaluate(dt_bag2,x,y)"
   ]
  },
  {
   "cell_type": "code",
   "execution_count": 26,
   "id": "c8cb3974",
   "metadata": {
    "execution": {
     "iopub.execute_input": "2023-12-23T16:57:52.572076Z",
     "iopub.status.busy": "2023-12-23T16:57:52.571307Z",
     "iopub.status.idle": "2023-12-23T16:57:52.586258Z",
     "shell.execute_reply": "2023-12-23T16:57:52.585393Z"
    },
    "papermill": {
     "duration": 0.035334,
     "end_time": "2023-12-23T16:57:52.588648",
     "exception": false,
     "start_time": "2023-12-23T16:57:52.553314",
     "status": "completed"
    },
    "tags": []
   },
   "outputs": [
    {
     "data": {
      "text/html": [
       "<div>\n",
       "<style scoped>\n",
       "    .dataframe tbody tr th:only-of-type {\n",
       "        vertical-align: middle;\n",
       "    }\n",
       "\n",
       "    .dataframe tbody tr th {\n",
       "        vertical-align: top;\n",
       "    }\n",
       "\n",
       "    .dataframe thead th {\n",
       "        text-align: right;\n",
       "    }\n",
       "</style>\n",
       "<table border=\"1\" class=\"dataframe\">\n",
       "  <thead>\n",
       "    <tr style=\"text-align: right;\">\n",
       "      <th></th>\n",
       "      <th>sepal_length</th>\n",
       "      <th>sepal_width</th>\n",
       "      <th>petal_length</th>\n",
       "      <th>petal_width</th>\n",
       "      <th>species</th>\n",
       "    </tr>\n",
       "  </thead>\n",
       "  <tbody>\n",
       "    <tr>\n",
       "      <th>108</th>\n",
       "      <td>6.7</td>\n",
       "      <td>2.5</td>\n",
       "      <td>5.8</td>\n",
       "      <td>1.8</td>\n",
       "      <td>2</td>\n",
       "    </tr>\n",
       "    <tr>\n",
       "      <th>87</th>\n",
       "      <td>6.3</td>\n",
       "      <td>2.3</td>\n",
       "      <td>4.4</td>\n",
       "      <td>1.3</td>\n",
       "      <td>1</td>\n",
       "    </tr>\n",
       "    <tr>\n",
       "      <th>3</th>\n",
       "      <td>4.6</td>\n",
       "      <td>3.1</td>\n",
       "      <td>1.5</td>\n",
       "      <td>0.2</td>\n",
       "      <td>0</td>\n",
       "    </tr>\n",
       "  </tbody>\n",
       "</table>\n",
       "</div>"
      ],
      "text/plain": [
       "     sepal_length  sepal_width  petal_length  petal_width  species\n",
       "108           6.7          2.5           5.8          1.8        2\n",
       "87            6.3          2.3           4.4          1.3        1\n",
       "3             4.6          3.1           1.5          0.2        0"
      ]
     },
     "execution_count": 26,
     "metadata": {},
     "output_type": "execute_result"
    }
   ],
   "source": [
    "#Data for tree 3\n",
    "df_bag = df_train.sample(30,replace = True)\n",
    "\n",
    "x = df_bag.iloc[:,[0,1,2,3]]\n",
    "y = df_bag.iloc[:,4]\n",
    "\n",
    "df_bag.sample(3)"
   ]
  },
  {
   "cell_type": "code",
   "execution_count": 27,
   "id": "1695c4ad",
   "metadata": {
    "execution": {
     "iopub.execute_input": "2023-12-23T16:57:52.624576Z",
     "iopub.status.busy": "2023-12-23T16:57:52.623820Z",
     "iopub.status.idle": "2023-12-23T16:57:52.628514Z",
     "shell.execute_reply": "2023-12-23T16:57:52.627524Z"
    },
    "papermill": {
     "duration": 0.024956,
     "end_time": "2023-12-23T16:57:52.630871",
     "exception": false,
     "start_time": "2023-12-23T16:57:52.605915",
     "status": "completed"
    },
    "tags": []
   },
   "outputs": [],
   "source": [
    "dt_bag3 = DecisionTreeClassifier()"
   ]
  },
  {
   "cell_type": "code",
   "execution_count": 28,
   "id": "3ff86fcd",
   "metadata": {
    "execution": {
     "iopub.execute_input": "2023-12-23T16:57:52.665387Z",
     "iopub.status.busy": "2023-12-23T16:57:52.664978Z",
     "iopub.status.idle": "2023-12-23T16:57:53.005257Z",
     "shell.execute_reply": "2023-12-23T16:57:53.004119Z"
    },
    "papermill": {
     "duration": 0.363043,
     "end_time": "2023-12-23T16:57:53.010372",
     "exception": false,
     "start_time": "2023-12-23T16:57:52.647329",
     "status": "completed"
    },
    "tags": []
   },
   "outputs": [
    {
     "data": {
      "image/png": "[encoded data removed]",
      "text/plain": [
       "<Figure size 640x480 with 1 Axes>"
      ]
     },
     "metadata": {},
     "output_type": "display_data"
    },
    {
     "name": "stdout",
     "output_type": "stream",
     "text": [
      "0.9666666666666667\n"
     ]
    },
    {
     "name": "stderr",
     "output_type": "stream",
     "text": [
      "/opt/conda/lib/python3.10/site-packages/sklearn/base.py:439: UserWarning: X does not have valid feature names, but DecisionTreeClassifier was fitted with feature names\n",
      "  warnings.warn(\n"
     ]
    }
   ],
   "source": [
    "evaluate(dt_bag3,x,y)"
   ]
  },
  {
   "cell_type": "code",
   "execution_count": 29,
   "id": "a066f83b",
   "metadata": {
    "execution": {
     "iopub.execute_input": "2023-12-23T16:57:53.047722Z",
     "iopub.status.busy": "2023-12-23T16:57:53.047271Z",
     "iopub.status.idle": "2023-12-23T16:57:53.057324Z",
     "shell.execute_reply": "2023-12-23T16:57:53.056027Z"
    },
    "papermill": {
     "duration": 0.033529,
     "end_time": "2023-12-23T16:57:53.061354",
     "exception": false,
     "start_time": "2023-12-23T16:57:53.027825",
     "status": "completed"
    },
    "tags": []
   },
   "outputs": [
    {
     "name": "stdout",
     "output_type": "stream",
     "text": [
      "Predictor 1 [1]\n",
      "Predictor 2 [1]\n",
      "Predictor 3 [1]\n"
     ]
    },
    {
     "name": "stderr",
     "output_type": "stream",
     "text": [
      "/opt/conda/lib/python3.10/site-packages/sklearn/base.py:439: UserWarning: X does not have valid feature names, but DecisionTreeClassifier was fitted with feature names\n",
      "  warnings.warn(\n",
      "/opt/conda/lib/python3.10/site-packages/sklearn/base.py:439: UserWarning: X does not have valid feature names, but DecisionTreeClassifier was fitted with feature names\n",
      "  warnings.warn(\n",
      "/opt/conda/lib/python3.10/site-packages/sklearn/base.py:439: UserWarning: X does not have valid feature names, but DecisionTreeClassifier was fitted with feature names\n",
      "  warnings.warn(\n"
     ]
    }
   ],
   "source": [
    "print(\"Predictor 1\",dt_bag1.predict(np.array([6.1,3.0,4.6,1.4]).reshape(1,4)))\n",
    "print(\"Predictor 2\",dt_bag2.predict(np.array([6.1,3.0,4.6,1.4]).reshape(1,4)))\n",
    "print(\"Predictor 3\",dt_bag3.predict(np.array([6.1,3.0,4.6,1.4]).reshape(1,4)))"
   ]
  },
  {
   "cell_type": "markdown",
   "id": "f000a5b1",
   "metadata": {
    "papermill": {
     "duration": 0.017628,
     "end_time": "2023-12-23T16:57:53.096392",
     "exception": false,
     "start_time": "2023-12-23T16:57:53.078764",
     "status": "completed"
    },
    "tags": []
   },
   "source": [
    "### Types of Bagging"
   ]
  },
  {
   "cell_type": "markdown",
   "id": "24ab94de",
   "metadata": {
    "papermill": {
     "duration": 0.017153,
     "end_time": "2023-12-23T16:57:53.131391",
     "exception": false,
     "start_time": "2023-12-23T16:57:53.114238",
     "status": "completed"
    },
    "tags": []
   },
   "source": [
    "### 1. Pasting"
   ]
  },
  {
   "cell_type": "code",
   "execution_count": 30,
   "id": "bb0643f5",
   "metadata": {
    "execution": {
     "iopub.execute_input": "2023-12-23T16:57:53.168040Z",
     "iopub.status.busy": "2023-12-23T16:57:53.167627Z",
     "iopub.status.idle": "2023-12-23T16:57:53.183585Z",
     "shell.execute_reply": "2023-12-23T16:57:53.182451Z"
    },
    "papermill": {
     "duration": 0.037278,
     "end_time": "2023-12-23T16:57:53.186115",
     "exception": false,
     "start_time": "2023-12-23T16:57:53.148837",
     "status": "completed"
    },
    "tags": []
   },
   "outputs": [
    {
     "data": {
      "text/html": [
       "<div>\n",
       "<style scoped>\n",
       "    .dataframe tbody tr th:only-of-type {\n",
       "        vertical-align: middle;\n",
       "    }\n",
       "\n",
       "    .dataframe tbody tr th {\n",
       "        vertical-align: top;\n",
       "    }\n",
       "\n",
       "    .dataframe thead th {\n",
       "        text-align: right;\n",
       "    }\n",
       "</style>\n",
       "<table border=\"1\" class=\"dataframe\">\n",
       "  <thead>\n",
       "    <tr style=\"text-align: right;\">\n",
       "      <th></th>\n",
       "      <th>sepal_length</th>\n",
       "      <th>sepal_width</th>\n",
       "      <th>petal_length</th>\n",
       "      <th>petal_width</th>\n",
       "      <th>species</th>\n",
       "    </tr>\n",
       "  </thead>\n",
       "  <tbody>\n",
       "    <tr>\n",
       "      <th>86</th>\n",
       "      <td>6.7</td>\n",
       "      <td>3.1</td>\n",
       "      <td>4.7</td>\n",
       "      <td>1.5</td>\n",
       "      <td>1</td>\n",
       "    </tr>\n",
       "    <tr>\n",
       "      <th>71</th>\n",
       "      <td>6.1</td>\n",
       "      <td>2.8</td>\n",
       "      <td>4.0</td>\n",
       "      <td>1.3</td>\n",
       "      <td>1</td>\n",
       "    </tr>\n",
       "    <tr>\n",
       "      <th>28</th>\n",
       "      <td>5.2</td>\n",
       "      <td>3.4</td>\n",
       "      <td>1.4</td>\n",
       "      <td>0.2</td>\n",
       "      <td>0</td>\n",
       "    </tr>\n",
       "    <tr>\n",
       "      <th>84</th>\n",
       "      <td>5.4</td>\n",
       "      <td>3.0</td>\n",
       "      <td>4.5</td>\n",
       "      <td>1.5</td>\n",
       "      <td>1</td>\n",
       "    </tr>\n",
       "    <tr>\n",
       "      <th>130</th>\n",
       "      <td>7.4</td>\n",
       "      <td>2.8</td>\n",
       "      <td>6.1</td>\n",
       "      <td>1.9</td>\n",
       "      <td>2</td>\n",
       "    </tr>\n",
       "  </tbody>\n",
       "</table>\n",
       "</div>"
      ],
      "text/plain": [
       "     sepal_length  sepal_width  petal_length  petal_width  species\n",
       "86            6.7          3.1           4.7          1.5        1\n",
       "71            6.1          2.8           4.0          1.3        1\n",
       "28            5.2          3.4           1.4          0.2        0\n",
       "84            5.4          3.0           4.5          1.5        1\n",
       "130           7.4          2.8           6.1          1.9        2"
      ]
     },
     "execution_count": 30,
     "metadata": {},
     "output_type": "execute_result"
    }
   ],
   "source": [
    "#Row sampling without replacement\n",
    "df.sample(5)"
   ]
  },
  {
   "cell_type": "markdown",
   "id": "420d7962",
   "metadata": {
    "papermill": {
     "duration": 0.017414,
     "end_time": "2023-12-23T16:57:53.221464",
     "exception": false,
     "start_time": "2023-12-23T16:57:53.204050",
     "status": "completed"
    },
    "tags": []
   },
   "source": [
    "### 3. Random Subspaces"
   ]
  },
  {
   "cell_type": "code",
   "execution_count": 31,
   "id": "5137495d",
   "metadata": {
    "execution": {
     "iopub.execute_input": "2023-12-23T16:57:53.258835Z",
     "iopub.status.busy": "2023-12-23T16:57:53.258417Z",
     "iopub.status.idle": "2023-12-23T16:57:53.274665Z",
     "shell.execute_reply": "2023-12-23T16:57:53.273590Z"
    },
    "papermill": {
     "duration": 0.038056,
     "end_time": "2023-12-23T16:57:53.277099",
     "exception": false,
     "start_time": "2023-12-23T16:57:53.239043",
     "status": "completed"
    },
    "tags": []
   },
   "outputs": [
    {
     "data": {
      "text/html": [
       "<div>\n",
       "<style scoped>\n",
       "    .dataframe tbody tr th:only-of-type {\n",
       "        vertical-align: middle;\n",
       "    }\n",
       "\n",
       "    .dataframe tbody tr th {\n",
       "        vertical-align: top;\n",
       "    }\n",
       "\n",
       "    .dataframe thead th {\n",
       "        text-align: right;\n",
       "    }\n",
       "</style>\n",
       "<table border=\"1\" class=\"dataframe\">\n",
       "  <thead>\n",
       "    <tr style=\"text-align: right;\">\n",
       "      <th></th>\n",
       "      <th>sepal_width</th>\n",
       "      <th>petal_width</th>\n",
       "    </tr>\n",
       "  </thead>\n",
       "  <tbody>\n",
       "    <tr>\n",
       "      <th>0</th>\n",
       "      <td>3.5</td>\n",
       "      <td>0.2</td>\n",
       "    </tr>\n",
       "    <tr>\n",
       "      <th>1</th>\n",
       "      <td>3.0</td>\n",
       "      <td>0.2</td>\n",
       "    </tr>\n",
       "    <tr>\n",
       "      <th>2</th>\n",
       "      <td>3.2</td>\n",
       "      <td>0.2</td>\n",
       "    </tr>\n",
       "    <tr>\n",
       "      <th>3</th>\n",
       "      <td>3.1</td>\n",
       "      <td>0.2</td>\n",
       "    </tr>\n",
       "    <tr>\n",
       "      <th>4</th>\n",
       "      <td>3.6</td>\n",
       "      <td>0.2</td>\n",
       "    </tr>\n",
       "    <tr>\n",
       "      <th>...</th>\n",
       "      <td>...</td>\n",
       "      <td>...</td>\n",
       "    </tr>\n",
       "    <tr>\n",
       "      <th>145</th>\n",
       "      <td>3.0</td>\n",
       "      <td>2.3</td>\n",
       "    </tr>\n",
       "    <tr>\n",
       "      <th>146</th>\n",
       "      <td>2.5</td>\n",
       "      <td>1.9</td>\n",
       "    </tr>\n",
       "    <tr>\n",
       "      <th>147</th>\n",
       "      <td>3.0</td>\n",
       "      <td>2.0</td>\n",
       "    </tr>\n",
       "    <tr>\n",
       "      <th>148</th>\n",
       "      <td>3.4</td>\n",
       "      <td>2.3</td>\n",
       "    </tr>\n",
       "    <tr>\n",
       "      <th>149</th>\n",
       "      <td>3.0</td>\n",
       "      <td>1.8</td>\n",
       "    </tr>\n",
       "  </tbody>\n",
       "</table>\n",
       "<p>150 rows × 2 columns</p>\n",
       "</div>"
      ],
      "text/plain": [
       "     sepal_width  petal_width\n",
       "0            3.5          0.2\n",
       "1            3.0          0.2\n",
       "2            3.2          0.2\n",
       "3            3.1          0.2\n",
       "4            3.6          0.2\n",
       "..           ...          ...\n",
       "145          3.0          2.3\n",
       "146          2.5          1.9\n",
       "147          3.0          2.0\n",
       "148          3.4          2.3\n",
       "149          3.0          1.8\n",
       "\n",
       "[150 rows x 2 columns]"
      ]
     },
     "execution_count": 31,
     "metadata": {},
     "output_type": "execute_result"
    }
   ],
   "source": [
    "df.sample(2,replace=True,axis = 1)"
   ]
  },
  {
   "cell_type": "markdown",
   "id": "261c6f8e",
   "metadata": {
    "papermill": {
     "duration": 0.017955,
     "end_time": "2023-12-23T16:57:53.313068",
     "exception": false,
     "start_time": "2023-12-23T16:57:53.295113",
     "status": "completed"
    },
    "tags": []
   },
   "source": [
    "### 3. Random Patches"
   ]
  },
  {
   "cell_type": "code",
   "execution_count": 32,
   "id": "a76093cc",
   "metadata": {
    "execution": {
     "iopub.execute_input": "2023-12-23T16:57:53.355778Z",
     "iopub.status.busy": "2023-12-23T16:57:53.355240Z",
     "iopub.status.idle": "2023-12-23T16:57:53.370372Z",
     "shell.execute_reply": "2023-12-23T16:57:53.369233Z"
    },
    "papermill": {
     "duration": 0.041621,
     "end_time": "2023-12-23T16:57:53.373343",
     "exception": false,
     "start_time": "2023-12-23T16:57:53.331722",
     "status": "completed"
    },
    "tags": []
   },
   "outputs": [
    {
     "data": {
      "text/html": [
       "<div>\n",
       "<style scoped>\n",
       "    .dataframe tbody tr th:only-of-type {\n",
       "        vertical-align: middle;\n",
       "    }\n",
       "\n",
       "    .dataframe tbody tr th {\n",
       "        vertical-align: top;\n",
       "    }\n",
       "\n",
       "    .dataframe thead th {\n",
       "        text-align: right;\n",
       "    }\n",
       "</style>\n",
       "<table border=\"1\" class=\"dataframe\">\n",
       "  <thead>\n",
       "    <tr style=\"text-align: right;\">\n",
       "      <th></th>\n",
       "      <th>species</th>\n",
       "      <th>sepal_width</th>\n",
       "    </tr>\n",
       "  </thead>\n",
       "  <tbody>\n",
       "    <tr>\n",
       "      <th>127</th>\n",
       "      <td>2</td>\n",
       "      <td>3.0</td>\n",
       "    </tr>\n",
       "    <tr>\n",
       "      <th>80</th>\n",
       "      <td>1</td>\n",
       "      <td>2.4</td>\n",
       "    </tr>\n",
       "    <tr>\n",
       "      <th>15</th>\n",
       "      <td>0</td>\n",
       "      <td>4.4</td>\n",
       "    </tr>\n",
       "    <tr>\n",
       "      <th>119</th>\n",
       "      <td>2</td>\n",
       "      <td>2.2</td>\n",
       "    </tr>\n",
       "    <tr>\n",
       "      <th>73</th>\n",
       "      <td>1</td>\n",
       "      <td>2.8</td>\n",
       "    </tr>\n",
       "  </tbody>\n",
       "</table>\n",
       "</div>"
      ],
      "text/plain": [
       "     species  sepal_width\n",
       "127        2          3.0\n",
       "80         1          2.4\n",
       "15         0          4.4\n",
       "119        2          2.2\n",
       "73         1          2.8"
      ]
     },
     "execution_count": 32,
     "metadata": {},
     "output_type": "execute_result"
    }
   ],
   "source": [
    "df.sample(5,replace=True).sample(2,replace=True,axis = 1)"
   ]
  },
  {
   "cell_type": "code",
   "execution_count": null,
   "id": "0b5a30bb",
   "metadata": {
    "papermill": {
     "duration": 0.019708,
     "end_time": "2023-12-23T16:57:53.417658",
     "exception": false,
     "start_time": "2023-12-23T16:57:53.397950",
     "status": "completed"
    },
    "tags": []
   },
   "outputs": [],
   "source": []
  }
 ],
 "metadata": {
  "kaggle": {
   "accelerator": "none",
   "dataSources": [
    {
     "datasetId": 17860,
     "sourceId": 23404,
     "sourceType": "datasetVersion"
    }
   ],
   "dockerImageVersionId": 30626,
   "isGpuEnabled": false,
   "isInternetEnabled": true,
   "language": "python",
   "sourceType": "notebook"
  },
  "kernelspec": {
   "display_name": "Python 3",
   "language": "python",
   "name": "python3"
  },
  "language_info": {
   "codemirror_mode": {
    "name": "ipython",
    "version": 3
   },
   "file_extension": ".py",
   "mimetype": "text/x-python",
   "name": "python",
   "nbconvert_exporter": "python",
   "pygments_lexer": "ipython3",
   "version": "3.10.12"
  },
  "papermill": {
   "default_parameters": {},
   "duration": 9.847738,
   "end_time": "2023-12-23T16:57:54.060519",
   "environment_variables": {},
   "exception": null,
   "input_path": "__notebook__.ipynb",
   "output_path": "__notebook__.ipynb",
   "parameters": {},
   "start_time": "2023-12-23T16:57:44.212781",
   "version": "2.4.0"
  }
 },
 "nbformat": 4,
 "nbformat_minor": 5
}
